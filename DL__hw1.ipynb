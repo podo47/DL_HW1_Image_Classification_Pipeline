{
  "cells": [
    {
      "cell_type": "markdown",
      "metadata": {
        "id": "view-in-github",
        "colab_type": "text"
      },
      "source": [
        "<a href=\"https://colab.research.google.com/github/podo47/DL_HW1_Image_Classification_Pipeline/blob/main/DL__hw1.ipynb\" target=\"_parent\"><img src=\"https://colab.research.google.com/assets/colab-badge.svg\" alt=\"Open In Colab\"/></a>"
      ]
    },
    {
      "cell_type": "markdown",
      "metadata": {
        "id": "qPOfVHDM1Wxn"
      },
      "source": [
        "# Image Classification Pipeline"
      ]
    },
    {
      "cell_type": "markdown",
      "metadata": {
        "id": "xHiwZqTwCwpo"
      },
      "source": [
        "## Mount to drive"
      ]
    },
    {
      "cell_type": "code",
      "execution_count": null,
      "metadata": {
        "colab": {
          "base_uri": "https://localhost:8080/"
        },
        "id": "pFvkZI8fClNf",
        "outputId": "ed36563a-d1c3-45b6-9817-095cbf087d5d"
      },
      "outputs": [
        {
          "output_type": "stream",
          "name": "stdout",
          "text": [
            "Drive already mounted at /content/drive; to attempt to forcibly remount, call drive.mount(\"/content/drive\", force_remount=True).\n"
          ]
        }
      ],
      "source": [
        "from google.colab import drive\n",
        "drive.mount('/content/drive') #連接到自己的雲端"
      ]
    },
    {
      "cell_type": "markdown",
      "metadata": {
        "id": "5GsOzcQ4DDjM"
      },
      "source": [
        "## Download data"
      ]
    },
    {
      "cell_type": "code",
      "execution_count": null,
      "metadata": {
        "id": "eI--SogCE6uL"
      },
      "outputs": [],
      "source": [
        "#@title\n",
        "!pip install googleDriveFileDownloader #安裝套件語法 !pip install {套件名稱}"
      ]
    },
    {
      "cell_type": "code",
      "execution_count": null,
      "metadata": {
        "id": "fEbE7AfTEOWp"
      },
      "outputs": [],
      "source": [
        "#@title\n",
        "from googleDriveFileDownloader import googleDriveFileDownloader\n",
        "gdownloader = googleDriveFileDownloader()\n",
        "gdownloader.downloadFile(\"https://drive.google.com/uc?id=1kwYYWL67O0Dcbx3dvZIfbGg9NiHdyisr&export=download\") # 連結到home work 1 data並下載"
      ]
    },
    {
      "cell_type": "code",
      "execution_count": null,
      "metadata": {
        "id": "6XEC1sXmEMEg"
      },
      "outputs": [],
      "source": [
        "#@title\n",
        "!unzip /content/images.zip -d /content/drive/MyDrive #解壓縮"
      ]
    },
    {
      "cell_type": "markdown",
      "metadata": {
        "id": "jJi0YValC4OC"
      },
      "source": [
        "# Part 1 : Data preprocessing"
      ]
    },
    {
      "cell_type": "markdown",
      "metadata": {
        "id": "zwz3vuz0Ytip"
      },
      "source": [
        "## Import libraries"
      ]
    },
    {
      "cell_type": "code",
      "execution_count": null,
      "metadata": {
        "id": "Yi6iRgrR1dKY"
      },
      "outputs": [],
      "source": [
        "import os\n",
        "import numpy as np # linear algebra\n",
        "import pandas as pd # data processing, CSV file I/O (e.g. pd.read_csv)\n",
        "import matplotlib.pyplot as plt # for data visualization purposes\n",
        "import seaborn as sns # for statistical data visualization\n",
        "from skimage.feature import hog\n",
        "from skimage.color import rgb2gray\n",
        "from PIL import Image\n",
        "import cv2"
      ]
    },
    {
      "cell_type": "code",
      "execution_count": null,
      "metadata": {
        "id": "l7he-wvvY38p"
      },
      "outputs": [],
      "source": [
        "import warnings\n",
        "warnings.filterwarnings('ignore')"
      ]
    },
    {
      "cell_type": "markdown",
      "metadata": {
        "id": "mGiYn8y8Y6C6"
      },
      "source": [
        "## Import data"
      ]
    },
    {
      "cell_type": "code",
      "execution_count": null,
      "metadata": {
        "id": "40FdgD9AY9Ky"
      },
      "outputs": [],
      "source": [
        "train = pd.read_csv('/content/drive/MyDrive/images/train.txt', sep=\" \",header=None)\n",
        "train_dir = np.array(train[0])\n",
        "train_y = np.array(train[1])\n",
        "\n",
        "valid = pd.read_csv('/content/drive/MyDrive/images/val.txt', sep=\" \",header=None)\n",
        "valid_dir = np.array(valid[0])\n",
        "valid_y = np.array(valid[1])\n",
        "\n",
        "test = pd.read_csv('/content/drive/MyDrive/images/test.txt', sep=\" \",header=None)\n",
        "test_dir = np.array(test[0])\n",
        "test_y = np.array(test[1])\n"
      ]
    },
    {
      "cell_type": "markdown",
      "source": [
        "## Read image into array (Can skip)"
      ],
      "metadata": {
        "id": "cb74n9fPJwyz"
      }
    },
    {
      "cell_type": "markdown",
      "source": [
        "To save time, you can just skip these steps, as the output has already been stored"
      ],
      "metadata": {
        "id": "kIUo8H8TKLpx"
      }
    },
    {
      "cell_type": "code",
      "execution_count": null,
      "metadata": {
        "id": "NU7hypgW8Sde"
      },
      "outputs": [],
      "source": [
        "def read_images_to_array(data_dir):\n",
        "  X = []\n",
        "  for imgname in data_dir:\n",
        "      img = cv2.imread('/content/drive/MyDrive/'+imgname)\n",
        "      img = cv2.resize(img, (32, 32))\n",
        "      gray = cv2.cvtColor(img, cv2.COLOR_BGR2GRAY)\n",
        "      X.append(gray)\n",
        "  X = np.array(X)\n",
        "  return X"
      ]
    },
    {
      "cell_type": "code",
      "execution_count": null,
      "metadata": {
        "id": "d0iGkgTJ8hlt"
      },
      "outputs": [],
      "source": [
        "# To save time, you can just skip this step, as the output has already been stored\n",
        "\n",
        "X_train = read_images_to_array(train_dir)\n",
        "X_valid = read_images_to_array(valid_dir)\n",
        "X_test = read_images_to_array(test_dir)\n"
      ]
    },
    {
      "cell_type": "code",
      "execution_count": null,
      "metadata": {
        "id": "UFAUtf_yU3XV"
      },
      "outputs": [],
      "source": [
        "# save them to a file\n",
        "np.savez(\"/content/drive/MyDrive/images/dataset.npz\", traindata=X_train, validdata=X_valid, testdata=X_test)"
      ]
    },
    {
      "cell_type": "code",
      "execution_count": null,
      "metadata": {
        "id": "y4TndaGC5QaV"
      },
      "outputs": [],
      "source": [
        "# To save time, you can just skip this step, as the output has already been stored\n",
        "\n",
        "with np.load(\"/content/drive/MyDrive/images/dataset.npz\") as data:\n",
        "    X_train = data[\"traindata\"]\n",
        "    X_valid = data[\"validdata\"]\n",
        "    X_test = data[\"testdata\"]\n"
      ]
    },
    {
      "cell_type": "markdown",
      "source": [
        "## HOG (Can skip)"
      ],
      "metadata": {
        "id": "6ozKqX7WLC7o"
      }
    },
    {
      "cell_type": "markdown",
      "source": [
        "To save time, you can just skip these steps, as the output has already been stored"
      ],
      "metadata": {
        "id": "gv2jDOG0LEgt"
      }
    },
    {
      "cell_type": "code",
      "execution_count": null,
      "metadata": {
        "id": "ZglAAckxu1ZQ"
      },
      "outputs": [],
      "source": [
        "# Define function to read images into an array\n",
        "def HOG_features_train(X_train):\n",
        "  orientations = 3\n",
        "  pixels_per_cell = (4, 4)\n",
        "  cells_per_block = (2, 2)\n",
        "    \n",
        "  train_features = []\n",
        "  for image in X_train:\n",
        "    feature = hog(image,orientations=orientations,pixels_per_cell=pixels_per_cell,cells_per_block=cells_per_block,block_norm='L2-Hys')\n",
        "    train_features.append(feature)\n",
        "  train_features = np.array(train_features)\n",
        "\n",
        "  return train_features\n",
        "\n"
      ]
    },
    {
      "cell_type": "code",
      "execution_count": null,
      "metadata": {
        "id": "5ZwyOm8xWCCS"
      },
      "outputs": [],
      "source": [
        "def HOG_features(X_valid,X_test):\n",
        "  orientations = 3\n",
        "  pixels_per_cell = (4, 4)\n",
        "  cells_per_block = (2, 2)\n",
        "\n",
        "  feature_data_list = []\n",
        "  for i in [X_valid,X_test]:\n",
        "    features_list = []\n",
        "    for image in i:\n",
        "      feature = hog(image,orientations=orientations,pixels_per_cell=pixels_per_cell,cells_per_block=cells_per_block,block_norm='L2-Hys')\n",
        "      features_list.append(feature)\n",
        "    features_list = np.array(features_list)\n",
        "    feature_data_list.append(features_list)\n",
        "\n",
        "  return feature_data_list\n",
        "\n",
        "  "
      ]
    },
    {
      "cell_type": "code",
      "execution_count": null,
      "metadata": {
        "id": "Qu22G3lfN6yz"
      },
      "outputs": [],
      "source": [
        "norm_train_1 = HOG_features_train(X_train[0:20000])"
      ]
    },
    {
      "cell_type": "code",
      "execution_count": null,
      "metadata": {
        "id": "Z-ByTfA1mDlZ"
      },
      "outputs": [],
      "source": [
        "norm_train_2 = HOG_features_train(X_train[20000:40000])"
      ]
    },
    {
      "cell_type": "code",
      "execution_count": null,
      "metadata": {
        "id": "6WKG2gzwt5-I"
      },
      "outputs": [],
      "source": [
        "norm_train = np.append(norm_train_1,norm_train_2,0)"
      ]
    },
    {
      "cell_type": "code",
      "execution_count": null,
      "metadata": {
        "id": "HmJlsgWaykCH"
      },
      "outputs": [],
      "source": [
        "# save them to a file\n",
        "np.savez(\"/content/drive/MyDrive/images/norm_train.npz\", norm_train_data=norm_train)"
      ]
    },
    {
      "cell_type": "code",
      "execution_count": null,
      "metadata": {
        "id": "vzDqKWimpqWU"
      },
      "outputs": [],
      "source": [
        "norm_train_3 = HOG_features_train(X_train[40000:])"
      ]
    },
    {
      "cell_type": "code",
      "execution_count": null,
      "metadata": {
        "id": "yh1ZtFxi-A5W"
      },
      "outputs": [],
      "source": [
        "# save them to a file\n",
        "np.savez(\"/content/drive/MyDrive/images/norm_train_2.npz\", norm_train_data=norm_train_3)"
      ]
    },
    {
      "cell_type": "code",
      "execution_count": null,
      "metadata": {
        "id": "rmu1WEGkBV6V"
      },
      "outputs": [],
      "source": [
        "with np.load(\"/content/drive/MyDrive/images/norm_train.npz\") as data:\n",
        "    norm_train = data[\"norm_train_data\"]"
      ]
    },
    {
      "cell_type": "code",
      "execution_count": null,
      "metadata": {
        "id": "tnu_aKJSdyrx"
      },
      "outputs": [],
      "source": [
        "norm_train = np.append(norm_train,norm_train_3,0)"
      ]
    },
    {
      "cell_type": "code",
      "execution_count": null,
      "metadata": {
        "id": "RY8ZWXjCvG-O"
      },
      "outputs": [],
      "source": [
        "# save them to a file\n",
        "np.savez(\"/content/drive/MyDrive/images/norm_train_full.npz\", norm_train_data=norm_train)"
      ]
    },
    {
      "cell_type": "code",
      "execution_count": null,
      "metadata": {
        "id": "9BmCZAjivjc0"
      },
      "outputs": [],
      "source": [
        "with np.load(\"/content/drive/MyDrive/images/norm_train_full.npz\") as data:\n",
        "    hog_train = data[\"norm_train_data\"]"
      ]
    },
    {
      "cell_type": "code",
      "execution_count": null,
      "metadata": {
        "id": "V1RcnG6YPQb6"
      },
      "outputs": [],
      "source": [
        "hog_feature = HOG_features(X_valid,X_test)"
      ]
    },
    {
      "cell_type": "code",
      "execution_count": null,
      "metadata": {
        "id": "7LREd5srRqoM"
      },
      "outputs": [],
      "source": [
        "hog_valid = hog_feature[0]\n",
        "hog_test = hog_feature[1]"
      ]
    },
    {
      "cell_type": "code",
      "execution_count": null,
      "metadata": {
        "id": "R5dOJWwgy5r9"
      },
      "outputs": [],
      "source": [
        "# Calculate the mean and standard deviation of each feature over the training set\n",
        "feature_means = np.mean(hog_train, axis=0)\n",
        "feature_stds = np.std(hog_train, axis=0)\n",
        "\n",
        "# Normalize the training set \n",
        "normalized_train_features = (hog_train - feature_means) / feature_stds\n",
        "\n",
        "# Normalize the valid and test set using the same mean and standard deviation as the training set\n",
        "normalized_valid_features = (hog_valid - feature_means) / feature_stds\n",
        "normalized_test_features = (hog_test - feature_means) / feature_stds"
      ]
    },
    {
      "cell_type": "code",
      "execution_count": null,
      "metadata": {
        "id": "IaoBbnInSNNy"
      },
      "outputs": [],
      "source": [
        "# save them to a file\n",
        "np.savez(\"/content/drive/MyDrive/images/hog_data.npz\", hog_train_data=normalized_train_features, hog_valid_data=normalized_valid_features,hog_test_data=normalized_test_features)"
      ]
    },
    {
      "cell_type": "markdown",
      "source": [
        "## Load feature vector and target variable"
      ],
      "metadata": {
        "id": "ovGa1eU4LNhj"
      }
    },
    {
      "cell_type": "code",
      "execution_count": null,
      "metadata": {
        "id": "51nEaHIgWV8q"
      },
      "outputs": [],
      "source": [
        "with np.load(\"/content/drive/MyDrive/images/hog_data.npz\") as data:\n",
        "    hog_train = data[\"hog_train_data\"]\n",
        "    hog_valid = data[\"hog_valid_data\"]\n",
        "    hog_test = data[\"hog_test_data\"]"
      ]
    },
    {
      "cell_type": "markdown",
      "source": [
        "# Part 2: Classifier"
      ],
      "metadata": {
        "id": "e-CFH9I_MoOt"
      }
    },
    {
      "cell_type": "markdown",
      "metadata": {
        "id": "jh_RxWq7tmKl"
      },
      "source": [
        "## XGBoost"
      ]
    },
    {
      "cell_type": "code",
      "execution_count": null,
      "metadata": {
        "id": "EsI_e4_Htpf3"
      },
      "outputs": [],
      "source": [
        "from xgboost import XGBClassifier\n",
        "import joblib\n",
        "from sklearn.metrics import accuracy_score"
      ]
    },
    {
      "cell_type": "markdown",
      "source": [
        "**Model training**"
      ],
      "metadata": {
        "id": "8tpMUj8-NL1E"
      }
    },
    {
      "cell_type": "code",
      "execution_count": null,
      "metadata": {
        "id": "Z7OaZqdDt5oA"
      },
      "outputs": [],
      "source": [
        "xgb = XGBClassifier(n_estimators=10, learning_rate= 1.0,early_stopping_rounds=5)"
      ]
    },
    {
      "cell_type": "markdown",
      "source": [
        "**To save time, you can just skip these steps, as the output has already been stored in 'xgb_model.dat'**"
      ],
      "metadata": {
        "id": "dDMqfqaGT1Ks"
      }
    },
    {
      "cell_type": "code",
      "execution_count": null,
      "metadata": {
        "colab": {
          "base_uri": "https://localhost:8080/",
          "height": 393
        },
        "id": "LPliyrn_v-lA",
        "outputId": "5b140ccf-93ee-406f-ce8d-1821270abd39"
      },
      "outputs": [
        {
          "output_type": "stream",
          "name": "stdout",
          "text": [
            "[0]\tvalidation_0-merror:0.86598\tvalidation_1-merror:0.98000\n",
            "[1]\tvalidation_0-merror:0.81001\tvalidation_1-merror:0.98000\n",
            "[2]\tvalidation_0-merror:0.76396\tvalidation_1-merror:0.96444\n",
            "[3]\tvalidation_0-merror:0.71683\tvalidation_1-merror:0.97778\n",
            "[4]\tvalidation_0-merror:0.66181\tvalidation_1-merror:0.97556\n",
            "[5]\tvalidation_0-merror:0.61000\tvalidation_1-merror:0.98222\n",
            "[6]\tvalidation_0-merror:0.55975\tvalidation_1-merror:0.97333\n",
            "[7]\tvalidation_0-merror:0.51133\tvalidation_1-merror:0.97556\n"
          ]
        },
        {
          "output_type": "execute_result",
          "data": {
            "text/plain": [
              "XGBClassifier(base_score=None, booster=None, callbacks=None,\n",
              "              colsample_bylevel=None, colsample_bynode=None,\n",
              "              colsample_bytree=None, early_stopping_rounds=5,\n",
              "              enable_categorical=False, eval_metric=None, feature_types=None,\n",
              "              gamma=None, gpu_id=None, grow_policy=None, importance_type=None,\n",
              "              interaction_constraints=None, learning_rate=1.0, max_bin=None,\n",
              "              max_cat_threshold=None, max_cat_to_onehot=None,\n",
              "              max_delta_step=None, max_depth=None, max_leaves=None,\n",
              "              min_child_weight=None, missing=nan, monotone_constraints=None,\n",
              "              n_estimators=10, n_jobs=None, num_parallel_tree=None,\n",
              "              objective='multi:softprob', predictor=None, ...)"
            ],
            "text/html": [
              "<style>#sk-container-id-2 {color: black;background-color: white;}#sk-container-id-2 pre{padding: 0;}#sk-container-id-2 div.sk-toggleable {background-color: white;}#sk-container-id-2 label.sk-toggleable__label {cursor: pointer;display: block;width: 100%;margin-bottom: 0;padding: 0.3em;box-sizing: border-box;text-align: center;}#sk-container-id-2 label.sk-toggleable__label-arrow:before {content: \"▸\";float: left;margin-right: 0.25em;color: #696969;}#sk-container-id-2 label.sk-toggleable__label-arrow:hover:before {color: black;}#sk-container-id-2 div.sk-estimator:hover label.sk-toggleable__label-arrow:before {color: black;}#sk-container-id-2 div.sk-toggleable__content {max-height: 0;max-width: 0;overflow: hidden;text-align: left;background-color: #f0f8ff;}#sk-container-id-2 div.sk-toggleable__content pre {margin: 0.2em;color: black;border-radius: 0.25em;background-color: #f0f8ff;}#sk-container-id-2 input.sk-toggleable__control:checked~div.sk-toggleable__content {max-height: 200px;max-width: 100%;overflow: auto;}#sk-container-id-2 input.sk-toggleable__control:checked~label.sk-toggleable__label-arrow:before {content: \"▾\";}#sk-container-id-2 div.sk-estimator input.sk-toggleable__control:checked~label.sk-toggleable__label {background-color: #d4ebff;}#sk-container-id-2 div.sk-label input.sk-toggleable__control:checked~label.sk-toggleable__label {background-color: #d4ebff;}#sk-container-id-2 input.sk-hidden--visually {border: 0;clip: rect(1px 1px 1px 1px);clip: rect(1px, 1px, 1px, 1px);height: 1px;margin: -1px;overflow: hidden;padding: 0;position: absolute;width: 1px;}#sk-container-id-2 div.sk-estimator {font-family: monospace;background-color: #f0f8ff;border: 1px dotted black;border-radius: 0.25em;box-sizing: border-box;margin-bottom: 0.5em;}#sk-container-id-2 div.sk-estimator:hover {background-color: #d4ebff;}#sk-container-id-2 div.sk-parallel-item::after {content: \"\";width: 100%;border-bottom: 1px solid gray;flex-grow: 1;}#sk-container-id-2 div.sk-label:hover label.sk-toggleable__label {background-color: #d4ebff;}#sk-container-id-2 div.sk-serial::before {content: \"\";position: absolute;border-left: 1px solid gray;box-sizing: border-box;top: 0;bottom: 0;left: 50%;z-index: 0;}#sk-container-id-2 div.sk-serial {display: flex;flex-direction: column;align-items: center;background-color: white;padding-right: 0.2em;padding-left: 0.2em;position: relative;}#sk-container-id-2 div.sk-item {position: relative;z-index: 1;}#sk-container-id-2 div.sk-parallel {display: flex;align-items: stretch;justify-content: center;background-color: white;position: relative;}#sk-container-id-2 div.sk-item::before, #sk-container-id-2 div.sk-parallel-item::before {content: \"\";position: absolute;border-left: 1px solid gray;box-sizing: border-box;top: 0;bottom: 0;left: 50%;z-index: -1;}#sk-container-id-2 div.sk-parallel-item {display: flex;flex-direction: column;z-index: 1;position: relative;background-color: white;}#sk-container-id-2 div.sk-parallel-item:first-child::after {align-self: flex-end;width: 50%;}#sk-container-id-2 div.sk-parallel-item:last-child::after {align-self: flex-start;width: 50%;}#sk-container-id-2 div.sk-parallel-item:only-child::after {width: 0;}#sk-container-id-2 div.sk-dashed-wrapped {border: 1px dashed gray;margin: 0 0.4em 0.5em 0.4em;box-sizing: border-box;padding-bottom: 0.4em;background-color: white;}#sk-container-id-2 div.sk-label label {font-family: monospace;font-weight: bold;display: inline-block;line-height: 1.2em;}#sk-container-id-2 div.sk-label-container {text-align: center;}#sk-container-id-2 div.sk-container {/* jupyter's `normalize.less` sets `[hidden] { display: none; }` but bootstrap.min.css set `[hidden] { display: none !important; }` so we also need the `!important` here to be able to override the default hidden behavior on the sphinx rendered scikit-learn.org. See: https://github.com/scikit-learn/scikit-learn/issues/21755 */display: inline-block !important;position: relative;}#sk-container-id-2 div.sk-text-repr-fallback {display: none;}</style><div id=\"sk-container-id-2\" class=\"sk-top-container\"><div class=\"sk-text-repr-fallback\"><pre>XGBClassifier(base_score=None, booster=None, callbacks=None,\n",
              "              colsample_bylevel=None, colsample_bynode=None,\n",
              "              colsample_bytree=None, early_stopping_rounds=5,\n",
              "              enable_categorical=False, eval_metric=None, feature_types=None,\n",
              "              gamma=None, gpu_id=None, grow_policy=None, importance_type=None,\n",
              "              interaction_constraints=None, learning_rate=1.0, max_bin=None,\n",
              "              max_cat_threshold=None, max_cat_to_onehot=None,\n",
              "              max_delta_step=None, max_depth=None, max_leaves=None,\n",
              "              min_child_weight=None, missing=nan, monotone_constraints=None,\n",
              "              n_estimators=10, n_jobs=None, num_parallel_tree=None,\n",
              "              objective=&#x27;multi:softprob&#x27;, predictor=None, ...)</pre><b>In a Jupyter environment, please rerun this cell to show the HTML representation or trust the notebook. <br />On GitHub, the HTML representation is unable to render, please try loading this page with nbviewer.org.</b></div><div class=\"sk-container\" hidden><div class=\"sk-item\"><div class=\"sk-estimator sk-toggleable\"><input class=\"sk-toggleable__control sk-hidden--visually\" id=\"sk-estimator-id-2\" type=\"checkbox\" checked><label for=\"sk-estimator-id-2\" class=\"sk-toggleable__label sk-toggleable__label-arrow\">XGBClassifier</label><div class=\"sk-toggleable__content\"><pre>XGBClassifier(base_score=None, booster=None, callbacks=None,\n",
              "              colsample_bylevel=None, colsample_bynode=None,\n",
              "              colsample_bytree=None, early_stopping_rounds=5,\n",
              "              enable_categorical=False, eval_metric=None, feature_types=None,\n",
              "              gamma=None, gpu_id=None, grow_policy=None, importance_type=None,\n",
              "              interaction_constraints=None, learning_rate=1.0, max_bin=None,\n",
              "              max_cat_threshold=None, max_cat_to_onehot=None,\n",
              "              max_delta_step=None, max_depth=None, max_leaves=None,\n",
              "              min_child_weight=None, missing=nan, monotone_constraints=None,\n",
              "              n_estimators=10, n_jobs=None, num_parallel_tree=None,\n",
              "              objective=&#x27;multi:softprob&#x27;, predictor=None, ...)</pre></div></div></div></div></div>"
            ]
          },
          "metadata": {},
          "execution_count": 34
        }
      ],
      "source": [
        "# Model training\n",
        "# To save time, you can just skip these steps, as the output has already been stored in 'xgb_model.dat'\n",
        "eval_set = [(hog_train, train_y), (hog_valid, valid_y)]\n",
        "xgb.fit(hog_train, train_y, eval_set=eval_set, eval_metric='merror')"
      ]
    },
    {
      "cell_type": "markdown",
      "source": [
        "**Store model**"
      ],
      "metadata": {
        "id": "hx6RNoTkNRrX"
      }
    },
    {
      "cell_type": "code",
      "execution_count": null,
      "metadata": {
        "colab": {
          "base_uri": "https://localhost:8080/",
          "height": 36
        },
        "id": "2Q17x9z3Mg0U",
        "outputId": "9bdd6a25-5794-4e4e-bc97-332e289542de"
      },
      "outputs": [
        {
          "output_type": "execute_result",
          "data": {
            "text/plain": [
              "'\\njoblib.dump(xgb, xgb_file)\\n'"
            ],
            "application/vnd.google.colaboratory.intrinsic+json": {
              "type": "string"
            }
          },
          "metadata": {},
          "execution_count": 202
        }
      ],
      "source": [
        "xgb_file = \"/content/drive/MyDrive/images/xgb_model.dat\"\n",
        "\n",
        "# Store the model using joblib\n",
        "'''\n",
        "joblib.dump(xgb, xgb_file)\n",
        "'''"
      ]
    },
    {
      "cell_type": "code",
      "execution_count": null,
      "metadata": {
        "id": "P2ZBZ6wHOElj"
      },
      "outputs": [],
      "source": [
        "# Load the pretrained model\n",
        "xgb_model = joblib.load(xgb_file)"
      ]
    },
    {
      "cell_type": "markdown",
      "source": [
        "**Check accuracy score**\n",
        "\n",
        "The curves of the training accuracy and validation accuracy"
      ],
      "metadata": {
        "id": "3gMSGz58Nlb6"
      }
    },
    {
      "cell_type": "code",
      "source": [
        "import matplotlib.pyplot as plt\n",
        "%matplotlib inline"
      ],
      "metadata": {
        "id": "q0KKJhnGWend"
      },
      "execution_count": null,
      "outputs": []
    },
    {
      "cell_type": "code",
      "source": [
        "# Get the training and validation accuracy scores\n",
        "results_xgb = xgb_model.evals_result()\n",
        "train_acc_xgb = [1-i for i in results_xgb['validation_0']['merror']]\n",
        "val_acc_xgb = [1-i for i in results_xgb['validation_1']['merror']]\n",
        "\n",
        "# Plot the training and validation accuracy curves\n",
        "epochs_xgb = len(train_acc_xgb)\n",
        "x_axis = range(0, epochs_xgb)\n",
        "plt.plot(x_axis, train_acc_xgb, label='Training')\n",
        "plt.plot(x_axis, val_acc_xgb, label='Validation')\n",
        "plt.legend()\n",
        "plt.ylabel('Accuracy')\n",
        "plt.xlabel('Epoch')\n",
        "plt.title('XGBoost Training and Validation Accuracy')\n",
        "plt.show()"
      ],
      "metadata": {
        "id": "NkyPyA5cSNdg",
        "colab": {
          "base_uri": "https://localhost:8080/",
          "height": 301
        },
        "outputId": "78f62a4f-02df-4feb-92dd-267728a8a175"
      },
      "execution_count": null,
      "outputs": [
        {
          "output_type": "display_data",
          "data": {
            "text/plain": [
              "<Figure size 432x288 with 1 Axes>"
            ],
            "image/png": "[encoded data removed]"
          },
          "metadata": {
            "needs_background": "light"
          }
        }
      ]
    },
    {
      "cell_type": "code",
      "execution_count": null,
      "metadata": {
        "id": "k4ToWtQmRG48"
      },
      "outputs": [],
      "source": [
        "# Valid set prediction\n",
        "y_valid_xgb = xgb_model.predict(hog_valid)"
      ]
    },
    {
      "cell_type": "markdown",
      "source": [
        "**The predicted result on the validation/testing  set \n",
        "(evaluated in top-1 accuracy and top-5 accuracy)**"
      ],
      "metadata": {
        "id": "zjbNo4pHOuH4"
      }
    },
    {
      "cell_type": "code",
      "execution_count": null,
      "metadata": {
        "colab": {
          "base_uri": "https://localhost:8080/"
        },
        "id": "qn6oHprrS5HD",
        "outputId": "17cb3d6f-e34a-4e3a-fac8-14953c442eac"
      },
      "outputs": [
        {
          "output_type": "stream",
          "name": "stdout",
          "text": [
            "Validation data Top-1 accuracy:0.04\n",
            "Validation data Top-5 accuracy:0.11\n"
          ]
        }
      ],
      "source": [
        "# Calculate the top-1 accuracy of validation\n",
        "top1_accuracy_xgb = accuracy_score(valid_y,y_valid_xgb)\n",
        "print('Validation data Top-1 accuracy:{0:.2f}'.format(top1_accuracy_xgb))\n",
        "\n",
        "# Get the top-5 predictions for the validation\n",
        "y_valid_xgb_prob = xgb_model.predict_proba(hog_test)\n",
        "y_val_pred_top5_xgb = np.argsort(y_valid_xgb_prob, axis=1)[:, -5:]\n",
        "top5_accuracy_xgb_valid = np.mean(np.array([valid_y[i] in y_val_pred_top5_xgb[i] for i in range(len(valid_y))]))\n",
        "print('Validation data Top-5 accuracy:{0:.2f}'.format(top5_accuracy_xgb_valid))"
      ]
    },
    {
      "cell_type": "code",
      "execution_count": null,
      "metadata": {
        "colab": {
          "base_uri": "https://localhost:8080/"
        },
        "id": "QoevGP7LTMq6",
        "outputId": "de9c4e39-15d8-4fa6-b55f-9ede3c9e9dbe"
      },
      "outputs": [
        {
          "output_type": "stream",
          "name": "stdout",
          "text": [
            "Test data Top-1 accuracy:0.02\n",
            "Test data Top-5 accuracy:0.11\n"
          ]
        }
      ],
      "source": [
        "# Evaluate the model on the testing set\n",
        "# Test set prediction\n",
        "y_test_xgb = xgb_model.predict(hog_test)\n",
        "# Calculate the top-1 accuracy of train\n",
        "top1_accuracy_xgb_test = accuracy_score(test_y,y_test_xgb)\n",
        "print('Test data Top-1 accuracy:{0:.2f}'.format(top1_accuracy_xgb_test))\n",
        "\n",
        "# Get the top-5 predictions for the train\n",
        "y_test_xgb_prob = xgb_model.predict_proba(hog_test)\n",
        "y_test_pred_top5_xgb = np.argsort(y_test_xgb_prob, axis=1)[:, -5:]\n",
        "top5_accuracy_xgb_test = np.mean(np.array([test_y[i] in y_test_pred_top5_xgb[i] for i in range(len(test_y))]))\n",
        "print('Test data Top-5 accuracy:{0:.2f}'.format(top5_accuracy_xgb_test))"
      ]
    },
    {
      "cell_type": "markdown",
      "metadata": {
        "id": "_9MEryvAXR1T"
      },
      "source": [
        "## Catboost"
      ]
    },
    {
      "cell_type": "code",
      "execution_count": null,
      "metadata": {
        "id": "B9Lc5q3WXUwK",
        "colab": {
          "base_uri": "https://localhost:8080/"
        },
        "outputId": "7c5c1251-8b96-42e5-bec7-fa4705caf815"
      },
      "outputs": [
        {
          "output_type": "stream",
          "name": "stdout",
          "text": [
            "Looking in indexes: https://pypi.org/simple, https://us-python.pkg.dev/colab-wheels/public/simple/\n",
            "Collecting catboost\n",
            "  Downloading catboost-1.1.1-cp39-none-manylinux1_x86_64.whl (76.6 MB)\n",
            "\u001b[2K     \u001b[90m━━━━━━━━━━━━━━━━━━━━━━━━━━━━━━━━━━━━━━━━\u001b[0m \u001b[32m76.6/76.6 MB\u001b[0m \u001b[31m10.0 MB/s\u001b[0m eta \u001b[36m0:00:00\u001b[0m\n",
            "\u001b[?25hRequirement already satisfied: matplotlib in /usr/local/lib/python3.9/dist-packages (from catboost) (3.7.1)\n",
            "Requirement already satisfied: pandas>=0.24.0 in /usr/local/lib/python3.9/dist-packages (from catboost) (1.4.4)\n",
            "Requirement already satisfied: scipy in /usr/local/lib/python3.9/dist-packages (from catboost) (1.10.1)\n",
            "Requirement already satisfied: plotly in /usr/local/lib/python3.9/dist-packages (from catboost) (5.5.0)\n",
            "Requirement already satisfied: six in /usr/local/lib/python3.9/dist-packages (from catboost) (1.15.0)\n",
            "Requirement already satisfied: numpy>=1.16.0 in /usr/local/lib/python3.9/dist-packages (from catboost) (1.22.4)\n",
            "Requirement already satisfied: graphviz in /usr/local/lib/python3.9/dist-packages (from catboost) (0.10.1)\n",
            "Requirement already satisfied: python-dateutil>=2.8.1 in /usr/local/lib/python3.9/dist-packages (from pandas>=0.24.0->catboost) (2.8.2)\n",
            "Requirement already satisfied: pytz>=2020.1 in /usr/local/lib/python3.9/dist-packages (from pandas>=0.24.0->catboost) (2022.7.1)\n",
            "Requirement already satisfied: packaging>=20.0 in /usr/local/lib/python3.9/dist-packages (from matplotlib->catboost) (23.0)\n",
            "Requirement already satisfied: cycler>=0.10 in /usr/local/lib/python3.9/dist-packages (from matplotlib->catboost) (0.11.0)\n",
            "Requirement already satisfied: importlib-resources>=3.2.0 in /usr/local/lib/python3.9/dist-packages (from matplotlib->catboost) (5.12.0)\n",
            "Requirement already satisfied: contourpy>=1.0.1 in /usr/local/lib/python3.9/dist-packages (from matplotlib->catboost) (1.0.7)\n",
            "Requirement already satisfied: pillow>=6.2.0 in /usr/local/lib/python3.9/dist-packages (from matplotlib->catboost) (8.4.0)\n",
            "Requirement already satisfied: pyparsing>=2.3.1 in /usr/local/lib/python3.9/dist-packages (from matplotlib->catboost) (3.0.9)\n",
            "Requirement already satisfied: kiwisolver>=1.0.1 in /usr/local/lib/python3.9/dist-packages (from matplotlib->catboost) (1.4.4)\n",
            "Requirement already satisfied: fonttools>=4.22.0 in /usr/local/lib/python3.9/dist-packages (from matplotlib->catboost) (4.39.0)\n",
            "Requirement already satisfied: tenacity>=6.2.0 in /usr/local/lib/python3.9/dist-packages (from plotly->catboost) (8.2.2)\n",
            "Requirement already satisfied: zipp>=3.1.0 in /usr/local/lib/python3.9/dist-packages (from importlib-resources>=3.2.0->matplotlib->catboost) (3.15.0)\n",
            "Installing collected packages: catboost\n",
            "Successfully installed catboost-1.1.1\n"
          ]
        }
      ],
      "source": [
        "!pip install catboost\n",
        "from catboost import CatBoostClassifier"
      ]
    },
    {
      "cell_type": "markdown",
      "source": [
        "**Model training**"
      ],
      "metadata": {
        "id": "rwGC-skOWfoD"
      }
    },
    {
      "cell_type": "code",
      "source": [
        "cbc = CatBoostClassifier(learning_rate=0.1,eval_metric='Accuracy' ,early_stopping_rounds=15,verbose=True)  "
      ],
      "metadata": {
        "id": "1nKaaZtOzR0q"
      },
      "execution_count": null,
      "outputs": []
    },
    {
      "cell_type": "markdown",
      "source": [
        "**To save time, you can just skip these steps, as the output has already been stored in 'cbc_model.dat'**"
      ],
      "metadata": {
        "id": "8w8zW4jTUxBo"
      }
    },
    {
      "cell_type": "code",
      "execution_count": null,
      "metadata": {
        "id": "Fh9t9MtQYOQE",
        "colab": {
          "base_uri": "https://localhost:8080/"
        },
        "outputId": "783c27c6-23aa-4b96-9e3f-2f4a37710042"
      },
      "outputs": [
        {
          "output_type": "stream",
          "name": "stdout",
          "text": [
            "0:\tlearn: 0.0377892\ttest: 0.0222222\tbest: 0.0222222 (0)\ttotal: 30.4s\tremaining: 8h 26m 24s\n",
            "1:\tlearn: 0.0459218\ttest: 0.0200000\tbest: 0.0222222 (0)\ttotal: 1m\tremaining: 8h 25m 19s\n",
            "2:\tlearn: 0.0557126\ttest: 0.0200000\tbest: 0.0222222 (0)\ttotal: 1m 31s\tremaining: 8h 24m 25s\n",
            "3:\tlearn: 0.0627398\ttest: 0.0200000\tbest: 0.0222222 (0)\ttotal: 2m 1s\tremaining: 8h 24m 24s\n",
            "4:\tlearn: 0.0669720\ttest: 0.0200000\tbest: 0.0222222 (0)\ttotal: 2m 32s\tremaining: 8h 24m 24s\n",
            "5:\tlearn: 0.0706198\ttest: 0.0200000\tbest: 0.0222222 (0)\ttotal: 3m 2s\tremaining: 8h 25m 12s\n",
            "6:\tlearn: 0.0761153\ttest: 0.0200000\tbest: 0.0222222 (0)\ttotal: 3m 34s\tremaining: 8h 26m 12s\n",
            "7:\tlearn: 0.0785314\ttest: 0.0200000\tbest: 0.0222222 (0)\ttotal: 4m 5s\tremaining: 8h 27m 12s\n",
            "8:\tlearn: 0.0834741\ttest: 0.0200000\tbest: 0.0222222 (0)\ttotal: 4m 37s\tremaining: 8h 29m 19s\n",
            "9:\tlearn: 0.0847375\ttest: 0.0200000\tbest: 0.0222222 (0)\ttotal: 5m 10s\tremaining: 8h 33m 2s\n",
            "10:\tlearn: 0.0907540\ttest: 0.0200000\tbest: 0.0222222 (0)\ttotal: 5m 42s\tremaining: 8h 32m 30s\n",
            "11:\tlearn: 0.0935965\ttest: 0.0200000\tbest: 0.0222222 (0)\ttotal: 6m 12s\tremaining: 8h 31m 29s\n",
            "12:\tlearn: 0.0952388\ttest: 0.0200000\tbest: 0.0222222 (0)\ttotal: 6m 43s\tremaining: 8h 30m 46s\n",
            "13:\tlearn: 0.0984287\ttest: 0.0200000\tbest: 0.0222222 (0)\ttotal: 7m 14s\tremaining: 8h 30m 29s\n",
            "14:\tlearn: 0.1025503\ttest: 0.0200000\tbest: 0.0222222 (0)\ttotal: 7m 45s\tremaining: 8h 29m 53s\n",
            "15:\tlearn: 0.1038926\ttest: 0.0200000\tbest: 0.0222222 (0)\ttotal: 8m 16s\tremaining: 8h 29m 7s\n",
            "Stopped by overfitting detector  (15 iterations wait)\n",
            "\n",
            "bestTest = 0.02222222222\n",
            "bestIteration = 0\n",
            "\n",
            "Shrink model to first 1 iterations.\n"
          ]
        },
        {
          "output_type": "execute_result",
          "data": {
            "text/plain": [
              "<catboost.core.CatBoostClassifier at 0x7f15a171e5e0>"
            ]
          },
          "metadata": {},
          "execution_count": 155
        }
      ],
      "source": [
        "# Create a CatBoost classifier and fit it to the training data\n",
        "# To save time, you can just skip these steps, as the output has already been stored in 'cbc_model.dat'\n",
        "cbc.fit(hog_train, train_y, eval_set=(hog_valid, valid_y))"
      ]
    },
    {
      "cell_type": "markdown",
      "source": [
        "**Store model**"
      ],
      "metadata": {
        "id": "4GBsKMlwWuu6"
      }
    },
    {
      "cell_type": "code",
      "source": [
        "cbc_file = \"/content/drive/MyDrive/images/cbc_model.dat\"\n",
        "\n",
        "# Store the model using joblib\n",
        "'''\n",
        "joblib.dump(cbc, cbc_file)\n",
        "'''"
      ],
      "metadata": {
        "id": "o1Zy-cJYA-nO",
        "colab": {
          "base_uri": "https://localhost:8080/",
          "height": 36
        },
        "outputId": "9682d1fc-8a9f-4834-f882-aa770a054884"
      },
      "execution_count": null,
      "outputs": [
        {
          "output_type": "execute_result",
          "data": {
            "text/plain": [
              "'\\njoblib.dump(cbc, cbc_file)\\n'"
            ],
            "application/vnd.google.colaboratory.intrinsic+json": {
              "type": "string"
            }
          },
          "metadata": {},
          "execution_count": 193
        }
      ]
    },
    {
      "cell_type": "code",
      "source": [
        "# Load the pretrained model\n",
        "cbc_model = joblib.load(cbc_file)"
      ],
      "metadata": {
        "id": "D1vLtmFmA_ST"
      },
      "execution_count": null,
      "outputs": []
    },
    {
      "cell_type": "code",
      "source": [
        "train_metrics_cbc = cbc.evals_result_['learn']['Accuracy']\n",
        "val_metrics_cbc = cbc.evals_result_['validation']['Accuracy']\n",
        "\n",
        "path_cbc = '/content/drive/MyDrive/images/eval_results_cbc.pkl'\n",
        "\n",
        "'''\n",
        "with open(path_cbc, 'wb') as f:\n",
        "    joblib.dump({'train': train_metrics_cbc, 'validation': val_metrics_cbc}, f)\n",
        "\n",
        "'''"
      ],
      "metadata": {
        "id": "c0uoBmweuBJC"
      },
      "execution_count": null,
      "outputs": []
    },
    {
      "cell_type": "code",
      "source": [
        "with open(path_cbc, 'rb') as f:\n",
        "    eval_results_cbc = joblib.load(f)"
      ],
      "metadata": {
        "id": "z26rDyPCuXVE"
      },
      "execution_count": null,
      "outputs": []
    },
    {
      "cell_type": "markdown",
      "source": [
        "**Check accuracy score**\n",
        "\n",
        "The curves of the training accuracy and validation accuracy"
      ],
      "metadata": {
        "id": "P6epufRnOlJg"
      }
    },
    {
      "cell_type": "code",
      "source": [
        "# Get the training and validation accuracy scores\n",
        "results_cbc = cbc_model.get_evals_result()\n",
        "train_acc_cbc = eval_results_cbc['train']\n",
        "val_acc_cbc = eval_results_cbc['validation']\n",
        "\n",
        "# Plot the training and validation accuracy curves\n",
        "epochs_cbc = len(train_acc_cbc)\n",
        "x_axis = range(0, epochs_cbc)\n",
        "plt.plot(x_axis, train_acc_cbc, label='Training')\n",
        "plt.plot(x_axis, val_acc_cbc, label='Validation')\n",
        "plt.legend()\n",
        "plt.ylabel('Accuracy')\n",
        "plt.xlabel('Epoch')\n",
        "plt.title('CatBoost Training and Validation Accuracy')\n",
        "plt.show()"
      ],
      "metadata": {
        "colab": {
          "base_uri": "https://localhost:8080/",
          "height": 295
        },
        "id": "lfCW92qRq4o4",
        "outputId": "30ab6952-6634-40f7-d1d0-6fa008757710"
      },
      "execution_count": null,
      "outputs": [
        {
          "output_type": "display_data",
          "data": {
            "text/plain": [
              "<Figure size 432x288 with 1 Axes>"
            ],
            "image/png": "[encoded data removed]"
          },
          "metadata": {
            "needs_background": "light"
          }
        }
      ]
    },
    {
      "cell_type": "code",
      "source": [
        "# Valid set prediction\n",
        "y_valid_cbc = cbc_model.predict(hog_valid)"
      ],
      "metadata": {
        "id": "L5_PNOILCvn9"
      },
      "execution_count": null,
      "outputs": []
    },
    {
      "cell_type": "markdown",
      "source": [
        "**The predicted result on the validation/testing set (evaluated in top-1 accuracy and top-5 accuracy)**"
      ],
      "metadata": {
        "id": "l4UOASKJO8gT"
      }
    },
    {
      "cell_type": "code",
      "execution_count": null,
      "metadata": {
        "id": "uq0p16UIo8Ca",
        "colab": {
          "base_uri": "https://localhost:8080/"
        },
        "outputId": "398e74d7-6c1d-4324-c4de-1cb463e74ead"
      },
      "outputs": [
        {
          "output_type": "stream",
          "name": "stdout",
          "text": [
            "Validation data Top-1 accuracy:0.02\n",
            "Validation data Top-5 accuracy:0.10\n"
          ]
        }
      ],
      "source": [
        "# Calculate the top-1 accuracy of validation\n",
        "top1_accuracy_cbc = accuracy_score(valid_y,y_valid_cbc)\n",
        "print('Validation data Top-1 accuracy:{0:.2f}'.format(top1_accuracy_cbc))\n",
        "\n",
        "# Get the top-5 predictions for the validation\n",
        "y_valid_cbc_prob = cbc_model.predict_proba(hog_test)\n",
        "y_val_pred_top5_cbc = np.argsort(y_valid_cbc_prob, axis=1)[:, -5:]\n",
        "top5_accuracy_cbc_valid = np.mean(np.array([valid_y[i] in y_val_pred_top5_cbc[i] for i in range(len(valid_y))]))\n",
        "print('Validation data Top-5 accuracy:{0:.2f}'.format(top5_accuracy_cbc_valid))"
      ]
    },
    {
      "cell_type": "code",
      "execution_count": null,
      "metadata": {
        "id": "BVrNA-csYW4g",
        "colab": {
          "base_uri": "https://localhost:8080/"
        },
        "outputId": "2cf7d06c-bc4b-4860-85c8-83ed9bf9b6ee"
      },
      "outputs": [
        {
          "output_type": "stream",
          "name": "stdout",
          "text": [
            "Test data Top-1 accuracy:0.02\n",
            "Test data Top-5 accuracy:0.10\n"
          ]
        }
      ],
      "source": [
        "# Evaluate the model on the testing set\n",
        "# Test set prediction\n",
        "y_test_cbc = cbc_model.predict(hog_test)\n",
        "# Calculate the top-1 accuracy of train\n",
        "top1_accuracy_cbc_test = accuracy_score(test_y,y_test_cbc)\n",
        "print('Test data Top-1 accuracy:{0:.2f}'.format(top1_accuracy_cbc_test))\n",
        "\n",
        "# Get the top-5 predictions for the train\n",
        "y_test_cbc_prob = cbc_model.predict_proba(hog_test)\n",
        "y_test_pred_top5_cbc = np.argsort(y_test_cbc_prob, axis=1)[:, -5:]\n",
        "top5_accuracy_cbc_test = np.mean(np.array([test_y[i] in y_test_pred_top5_cbc[i] for i in range(len(test_y))]))\n",
        "print('Test data Top-5 accuracy:{0:.2f}'.format(top5_accuracy_cbc_test))"
      ]
    },
    {
      "cell_type": "markdown",
      "source": [
        "## Light GBM"
      ],
      "metadata": {
        "id": "owEV_K6xXKq5"
      }
    },
    {
      "cell_type": "code",
      "source": [
        "import lightgbm as lgb\n",
        "from lightgbm import LGBMClassifier"
      ],
      "metadata": {
        "id": "YfhNpMeQXOa3"
      },
      "execution_count": null,
      "outputs": []
    },
    {
      "cell_type": "markdown",
      "source": [
        "**Model training**"
      ],
      "metadata": {
        "id": "Za-uyu_fW5Vo"
      }
    },
    {
      "cell_type": "code",
      "source": [
        "lgbm = lgb.LGBMClassifier(n_estimators = 10,learning_rate = 1.0)"
      ],
      "metadata": {
        "id": "Wcd1CQvGXU6Y"
      },
      "execution_count": null,
      "outputs": []
    },
    {
      "cell_type": "markdown",
      "source": [
        "**To save time, you can just skip these steps, as the output has already been stored in 'lgbm_model.dat'**"
      ],
      "metadata": {
        "id": "aHYfw2m1WVlS"
      }
    },
    {
      "cell_type": "code",
      "source": [
        "# To save time, you can just skip these steps, as the output has already been stored in 'lgbm_model.dat'\n",
        "eval_set = [(hog_train, train_y), (hog_valid, valid_y)]\n",
        "lgbm.fit(hog_train, train_y, eval_set=eval_set, eval_metric='multi_error', early_stopping_rounds=15, verbose=True)"
      ],
      "metadata": {
        "colab": {
          "base_uri": "https://localhost:8080/",
          "height": 275
        },
        "id": "PK-p1ByuGFE0",
        "outputId": "4842e73a-bcbb-4f39-cfe6-60141896ab68"
      },
      "execution_count": null,
      "outputs": [
        {
          "output_type": "stream",
          "name": "stdout",
          "text": [
            "[1]\ttraining's multi_error: 0.870809\ttraining's multi_logloss: 4.98671\tvalid_1's multi_error: 0.98\tvalid_1's multi_logloss: 5.26715\n",
            "[2]\ttraining's multi_error: 0.841611\ttraining's multi_logloss: 6.06854\tvalid_1's multi_error: 0.977778\tvalid_1's multi_logloss: 4.79977\n",
            "[3]\ttraining's multi_error: 0.830651\ttraining's multi_logloss: 6.90481\tvalid_1's multi_error: 0.968889\tvalid_1's multi_logloss: 4.88907\n",
            "[4]\ttraining's multi_error: 0.824272\ttraining's multi_logloss: 7.45148\tvalid_1's multi_error: 0.971111\tvalid_1's multi_logloss: 4.91966\n",
            "[5]\ttraining's multi_error: 0.823593\ttraining's multi_logloss: 8.02334\tvalid_1's multi_error: 0.968889\tvalid_1's multi_logloss: 4.96019\n",
            "[6]\ttraining's multi_error: 0.825156\ttraining's multi_logloss: 8.50045\tvalid_1's multi_error: 0.968889\tvalid_1's multi_logloss: 4.94324\n",
            "[7]\ttraining's multi_error: 0.829009\ttraining's multi_logloss: 8.98034\tvalid_1's multi_error: 0.968889\tvalid_1's multi_logloss: 4.95109\n",
            "[8]\ttraining's multi_error: 0.83542\ttraining's multi_logloss: 9.59953\tvalid_1's multi_error: 0.968889\tvalid_1's multi_logloss: 4.95465\n",
            "[9]\ttraining's multi_error: 0.839921\ttraining's multi_logloss: 10.1218\tvalid_1's multi_error: 0.968889\tvalid_1's multi_logloss: 4.94664\n",
            "[10]\ttraining's multi_error: 0.842985\ttraining's multi_logloss: 10.5153\tvalid_1's multi_error: 0.968889\tvalid_1's multi_logloss: 4.96033\n"
          ]
        },
        {
          "output_type": "execute_result",
          "data": {
            "text/plain": [
              "LGBMClassifier(learning_rate=1.0, n_estimators=10)"
            ],
            "text/html": [
              "<style>#sk-container-id-3 {color: black;background-color: white;}#sk-container-id-3 pre{padding: 0;}#sk-container-id-3 div.sk-toggleable {background-color: white;}#sk-container-id-3 label.sk-toggleable__label {cursor: pointer;display: block;width: 100%;margin-bottom: 0;padding: 0.3em;box-sizing: border-box;text-align: center;}#sk-container-id-3 label.sk-toggleable__label-arrow:before {content: \"▸\";float: left;margin-right: 0.25em;color: #696969;}#sk-container-id-3 label.sk-toggleable__label-arrow:hover:before {color: black;}#sk-container-id-3 div.sk-estimator:hover label.sk-toggleable__label-arrow:before {color: black;}#sk-container-id-3 div.sk-toggleable__content {max-height: 0;max-width: 0;overflow: hidden;text-align: left;background-color: #f0f8ff;}#sk-container-id-3 div.sk-toggleable__content pre {margin: 0.2em;color: black;border-radius: 0.25em;background-color: #f0f8ff;}#sk-container-id-3 input.sk-toggleable__control:checked~div.sk-toggleable__content {max-height: 200px;max-width: 100%;overflow: auto;}#sk-container-id-3 input.sk-toggleable__control:checked~label.sk-toggleable__label-arrow:before {content: \"▾\";}#sk-container-id-3 div.sk-estimator input.sk-toggleable__control:checked~label.sk-toggleable__label {background-color: #d4ebff;}#sk-container-id-3 div.sk-label input.sk-toggleable__control:checked~label.sk-toggleable__label {background-color: #d4ebff;}#sk-container-id-3 input.sk-hidden--visually {border: 0;clip: rect(1px 1px 1px 1px);clip: rect(1px, 1px, 1px, 1px);height: 1px;margin: -1px;overflow: hidden;padding: 0;position: absolute;width: 1px;}#sk-container-id-3 div.sk-estimator {font-family: monospace;background-color: #f0f8ff;border: 1px dotted black;border-radius: 0.25em;box-sizing: border-box;margin-bottom: 0.5em;}#sk-container-id-3 div.sk-estimator:hover {background-color: #d4ebff;}#sk-container-id-3 div.sk-parallel-item::after {content: \"\";width: 100%;border-bottom: 1px solid gray;flex-grow: 1;}#sk-container-id-3 div.sk-label:hover label.sk-toggleable__label {background-color: #d4ebff;}#sk-container-id-3 div.sk-serial::before {content: \"\";position: absolute;border-left: 1px solid gray;box-sizing: border-box;top: 0;bottom: 0;left: 50%;z-index: 0;}#sk-container-id-3 div.sk-serial {display: flex;flex-direction: column;align-items: center;background-color: white;padding-right: 0.2em;padding-left: 0.2em;position: relative;}#sk-container-id-3 div.sk-item {position: relative;z-index: 1;}#sk-container-id-3 div.sk-parallel {display: flex;align-items: stretch;justify-content: center;background-color: white;position: relative;}#sk-container-id-3 div.sk-item::before, #sk-container-id-3 div.sk-parallel-item::before {content: \"\";position: absolute;border-left: 1px solid gray;box-sizing: border-box;top: 0;bottom: 0;left: 50%;z-index: -1;}#sk-container-id-3 div.sk-parallel-item {display: flex;flex-direction: column;z-index: 1;position: relative;background-color: white;}#sk-container-id-3 div.sk-parallel-item:first-child::after {align-self: flex-end;width: 50%;}#sk-container-id-3 div.sk-parallel-item:last-child::after {align-self: flex-start;width: 50%;}#sk-container-id-3 div.sk-parallel-item:only-child::after {width: 0;}#sk-container-id-3 div.sk-dashed-wrapped {border: 1px dashed gray;margin: 0 0.4em 0.5em 0.4em;box-sizing: border-box;padding-bottom: 0.4em;background-color: white;}#sk-container-id-3 div.sk-label label {font-family: monospace;font-weight: bold;display: inline-block;line-height: 1.2em;}#sk-container-id-3 div.sk-label-container {text-align: center;}#sk-container-id-3 div.sk-container {/* jupyter's `normalize.less` sets `[hidden] { display: none; }` but bootstrap.min.css set `[hidden] { display: none !important; }` so we also need the `!important` here to be able to override the default hidden behavior on the sphinx rendered scikit-learn.org. See: https://github.com/scikit-learn/scikit-learn/issues/21755 */display: inline-block !important;position: relative;}#sk-container-id-3 div.sk-text-repr-fallback {display: none;}</style><div id=\"sk-container-id-3\" class=\"sk-top-container\"><div class=\"sk-text-repr-fallback\"><pre>LGBMClassifier(learning_rate=1.0, n_estimators=10)</pre><b>In a Jupyter environment, please rerun this cell to show the HTML representation or trust the notebook. <br />On GitHub, the HTML representation is unable to render, please try loading this page with nbviewer.org.</b></div><div class=\"sk-container\" hidden><div class=\"sk-item\"><div class=\"sk-estimator sk-toggleable\"><input class=\"sk-toggleable__control sk-hidden--visually\" id=\"sk-estimator-id-3\" type=\"checkbox\" checked><label for=\"sk-estimator-id-3\" class=\"sk-toggleable__label sk-toggleable__label-arrow\">LGBMClassifier</label><div class=\"sk-toggleable__content\"><pre>LGBMClassifier(learning_rate=1.0, n_estimators=10)</pre></div></div></div></div></div>"
            ]
          },
          "metadata": {},
          "execution_count": 166
        }
      ]
    },
    {
      "cell_type": "markdown",
      "source": [
        "**Store model**"
      ],
      "metadata": {
        "id": "wI8eOBgoW9eX"
      }
    },
    {
      "cell_type": "code",
      "source": [
        "lgbm_file = \"/content/drive/MyDrive/images/lgbm_model.dat\"\n",
        "\n",
        "# Store the model using joblib\n",
        "'''\n",
        "joblib.dump(lgbm, lgbm_file)\n",
        "'''"
      ],
      "metadata": {
        "colab": {
          "base_uri": "https://localhost:8080/",
          "height": 36
        },
        "id": "XceO2j3HGE1U",
        "outputId": "1a5acc8d-29db-48a2-a559-51fd0668ceb2"
      },
      "execution_count": null,
      "outputs": [
        {
          "output_type": "execute_result",
          "data": {
            "text/plain": [
              "'\\njoblib.dump(lgbm, lgbm_file)\\n'"
            ],
            "application/vnd.google.colaboratory.intrinsic+json": {
              "type": "string"
            }
          },
          "metadata": {},
          "execution_count": 194
        }
      ]
    },
    {
      "cell_type": "code",
      "source": [
        "# Load the pretrained model\n",
        "lgbm_model = joblib.load(lgbm_file)"
      ],
      "metadata": {
        "id": "EOi3FE2M3iIN"
      },
      "execution_count": null,
      "outputs": []
    },
    {
      "cell_type": "code",
      "source": [
        "print(lgbm_model.evals_result_.keys())\n"
      ],
      "metadata": {
        "colab": {
          "base_uri": "https://localhost:8080/"
        },
        "id": "e2rKYdRL79g2",
        "outputId": "678b72cd-fb3d-4d5d-ca41-f48d18aabf2f"
      },
      "execution_count": null,
      "outputs": [
        {
          "output_type": "stream",
          "name": "stdout",
          "text": [
            "dict_keys(['training', 'valid_1'])\n"
          ]
        }
      ]
    },
    {
      "cell_type": "markdown",
      "source": [
        "**Check accuracy score**\n",
        "\n",
        "The curves of the training accuracy and validation accuracy"
      ],
      "metadata": {
        "id": "f9prCfXuOnQ3"
      }
    },
    {
      "cell_type": "code",
      "source": [
        "# Get the training and validation accuracy scores\n",
        "train_acc_lgbm = lgbm_model.evals_result_['training']['multi_error']\n",
        "val_acc_lgbm = lgbm_model.evals_result_['valid_1']['multi_error']\n",
        "train_acc_lgbm = [1-i for i in train_acc_lgbm ]\n",
        "val_acc_lgbm = [1-i for i in val_acc_lgbm ]\n",
        "# Plot the training and validation accuracy curves\n",
        "epochs_lgbm = len(train_acc_lgbm)\n",
        "x_axis = range(0, epochs_lgbm)\n",
        "plt.plot(x_axis, train_acc_lgbm, label='Training')\n",
        "plt.plot(x_axis, val_acc_lgbm, label='Validation')\n",
        "plt.legend()\n",
        "plt.ylabel('Accuracy')\n",
        "plt.xlabel('Epoch')\n",
        "plt.title('Light GBM Training and Validation Accuracy')\n",
        "plt.show()"
      ],
      "metadata": {
        "colab": {
          "base_uri": "https://localhost:8080/",
          "height": 295
        },
        "id": "7RGZ4ZF83qtR",
        "outputId": "ebd73f00-f645-47eb-9b3a-ea7c6ad4279c"
      },
      "execution_count": null,
      "outputs": [
        {
          "output_type": "display_data",
          "data": {
            "text/plain": [
              "<Figure size 432x288 with 1 Axes>"
            ],
            "image/png": "[encoded data removed]"
          },
          "metadata": {
            "needs_background": "light"
          }
        }
      ]
    },
    {
      "cell_type": "code",
      "source": [
        "# Valid set prediction\n",
        "y_valid_lgbm = lgbm_model.predict(hog_valid)"
      ],
      "metadata": {
        "id": "9PtO8d5R3qnO"
      },
      "execution_count": null,
      "outputs": []
    },
    {
      "cell_type": "markdown",
      "source": [
        "**The predicted result on the validation/testing set (evaluated in top-1 accuracy and top-5 accuracy)**"
      ],
      "metadata": {
        "id": "zMuHGVEbO-MP"
      }
    },
    {
      "cell_type": "code",
      "source": [
        "# Calculate the top-1 accuracy of validation\n",
        "top1_accuracy_lgbm = accuracy_score(valid_y,y_valid_lgbm)\n",
        "print('Validation data Top-1 accuracy:{0:.2f}'.format(top1_accuracy_lgbm))\n",
        "\n",
        "# Get the top-5 predictions for the validation\n",
        "y_valid_lgbm_prob = lgbm_model.predict_proba(hog_test)\n",
        "y_val_pred_top5_lgbm = np.argsort(y_valid_lgbm_prob, axis=1)[:, -5:]\n",
        "top5_accuracy_lgbm_valid = np.mean(np.array([valid_y[i] in y_val_pred_top5_lgbm[i] for i in range(len(valid_y))]))\n",
        "print('Validation data Top-5 accuracy:{0:.2f}'.format(top5_accuracy_lgbm_valid))"
      ],
      "metadata": {
        "colab": {
          "base_uri": "https://localhost:8080/"
        },
        "id": "yLXbeqCt3qdm",
        "outputId": "a50c1351-fb3f-41fc-f0b1-4effbd392faa"
      },
      "execution_count": null,
      "outputs": [
        {
          "output_type": "stream",
          "name": "stdout",
          "text": [
            "Validation data Top-1 accuracy:0.03\n",
            "Validation data Top-5 accuracy:0.11\n"
          ]
        }
      ]
    },
    {
      "cell_type": "code",
      "source": [
        "# Evaluate the model on the testing set\n",
        "# Test set prediction\n",
        "y_test_lgbm = lgbm_model.predict(hog_test)\n",
        "# Calculate the top-1 accuracy of train\n",
        "top1_accuracy_lgbm_test = accuracy_score(test_y,y_test_lgbm)\n",
        "print('Test data Top-1 accuracy:{0:.2f}'.format(top1_accuracy_lgbm_test))\n",
        "\n",
        "# Get the top-5 predictions for the train\n",
        "y_test_lgbm_prob = lgbm_model.predict_proba(hog_test)\n",
        "y_test_pred_top5_lgbm = np.argsort(y_test_lgbm_prob, axis=1)[:, -5:]\n",
        "top5_accuracy_lgbm_test = np.mean(np.array([test_y[i] in y_test_pred_top5_lgbm[i] for i in range(len(test_y))]))\n",
        "print('Test data Top-5 accuracy:{0:.2f}'.format(top5_accuracy_lgbm_test))"
      ],
      "metadata": {
        "colab": {
          "base_uri": "https://localhost:8080/"
        },
        "id": "lkm8foZq3xnS",
        "outputId": "5ad1f256-fba1-48df-9a07-726f26011702"
      },
      "execution_count": null,
      "outputs": [
        {
          "output_type": "stream",
          "name": "stdout",
          "text": [
            "Test data Top-1 accuracy:0.03\n",
            "Test data Top-5 accuracy:0.11\n"
          ]
        }
      ]
    },
    {
      "cell_type": "markdown",
      "source": [
        "# Performance"
      ],
      "metadata": {
        "id": "OKhaFcnK9r3-"
      }
    },
    {
      "cell_type": "code",
      "source": [
        "perform_df = pd.DataFrame([\n",
        "    ['XGBoost', 'Top-1', top1_accuracy_xgb_test],\n",
        "    ['XGBoost', 'Top-5', top5_accuracy_xgb_test],\n",
        "    ['Catboost', 'Top-1', top1_accuracy_cbc_test],\n",
        "    ['Catboost', 'Top-5', top5_accuracy_cbc_test],\n",
        "    ['LightGBM', 'Top-1', top1_accuracy_lgbm_test],\n",
        "    ['LightGBM', 'Top-5', top5_accuracy_lgbm_test]], columns=['Models', 'Top_acc', 'Accuracy'])\n",
        "\n",
        "plt.xticks(rotation=-15,size=15)\n",
        "plt.yticks(size=15)\n",
        "sns.set(rc = {'figure.figsize':(15,8)})\n",
        "model_perform_plot = sns.lineplot(x='Models', y='Accuracy', hue='Top_acc',marker='o', data=perform_df)\n",
        "model_perform_plot.set_title(\"Comparison of model's accuracy on validation data\",size=25)\n",
        "\n",
        "for a,b in zip(perform_df['Models'],perform_df['Accuracy']):\n",
        "  plt.text(a, b, '%.4f' % b, ha='center', va= 'bottom',fontsize=12)"
      ],
      "metadata": {
        "colab": {
          "base_uri": "https://localhost:8080/",
          "height": 551
        },
        "id": "Z9y0AieU9uz4",
        "outputId": "e26fd3de-3939-4300-daf4-340c9f3b06e6"
      },
      "execution_count": null,
      "outputs": [
        {
          "output_type": "display_data",
          "data": {
            "text/plain": [
              "<Figure size 1080x576 with 1 Axes>"
            ],
            "image/png": "[encoded data removed]"
          },
          "metadata": {}
        }
      ]
    },
    {
      "cell_type": "code",
      "source": [
        "perform_df_test = pd.DataFrame([\n",
        "    ['XGBoost', 'Top-1', top1_accuracy_xgb],\n",
        "    ['XGBoost', 'Top-5', top5_accuracy_xgb_valid],\n",
        "    ['Catboost', 'Top-1', top1_accuracy_cbc],\n",
        "    ['Catboost', 'Top-5', top5_accuracy_cbc_valid],\n",
        "    ['LightGBM', 'Top-1', top1_accuracy_lgbm],\n",
        "    ['LightGBM', 'Top-5', top5_accuracy_lgbm_valid]], columns=['Models', 'Top_acc', 'Accuracy'])\n",
        "\n",
        "plt.xticks(rotation=-15,size=15)\n",
        "plt.yticks(size=15)\n",
        "sns.set(rc = {'figure.figsize':(15,8)})\n",
        "model_perform_plot = sns.lineplot(x='Models', y='Accuracy', hue='Top_acc',marker='o', data=perform_df_test)\n",
        "model_perform_plot.set_title(\"Comparison of model's accuracy on test data\",size=25)\n",
        "plt.legend(loc='center right')\n",
        "\n",
        "for a,b in zip(perform_df['Models'],perform_df['Accuracy']):\n",
        "  plt.text(a, b, '%.4f' % b, ha='center', va= 'bottom',fontsize=12)"
      ],
      "metadata": {
        "colab": {
          "base_uri": "https://localhost:8080/",
          "height": 551
        },
        "id": "V2sQWWbZ_5uM",
        "outputId": "66f7fcb2-c9f2-411d-c910-4dde12f8f031"
      },
      "execution_count": null,
      "outputs": [
        {
          "output_type": "display_data",
          "data": {
            "text/plain": [
              "<Figure size 1080x576 with 1 Axes>"
            ],
            "image/png": "[encoded data removed]"
          },
          "metadata": {}
        }
      ]
    }
  ],
  "metadata": {
    "colab": {
      "toc_visible": true,
      "provenance": [],
      "collapsed_sections": [
        "5GsOzcQ4DDjM",
        "cb74n9fPJwyz",
        "6ozKqX7WLC7o"
      ],
      "include_colab_link": true
    },
    "gpuClass": "standard",
    "kernelspec": {
      "display_name": "Python 3",
      "name": "python3"
    },
    "language_info": {
      "name": "python"
    }
  },
  "nbformat": 4,
  "nbformat_minor": 0
}